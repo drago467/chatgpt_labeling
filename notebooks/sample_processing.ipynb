{
 "cells": [
  {
   "cell_type": "markdown",
   "id": "1b72d58b",
   "metadata": {},
   "source": [
    "# Sample Processing - ChatGPT Multi-label Classification\n",
    "\n",
    "## 📋 Overview\n",
    "This notebook demonstrates the ChatGPT labeling system with a small sample of data for:\n",
    "- API connection testing\n",
    "- Prompt effectiveness evaluation\n",
    "- Result quality analysis\n",
    "- Performance optimization\n",
    "\n",
    "**Use this notebook to test the system before running full dataset processing.**"
   ]
  },
  {
   "cell_type": "code",
   "execution_count": 1,
   "id": "7bee0b66",
   "metadata": {},
   "outputs": [
    {
     "name": "stdout",
     "output_type": "stream",
     "text": [
      "🚀 ChatGPT Labeling System - Sample Processing\n",
      "📅 Session started: 2025-09-29 20:20:16\n",
      "✅ API key configured\n"
     ]
    }
   ],
   "source": [
    "# Setup and imports\n",
    "import sys\n",
    "import os\n",
    "sys.path.append('..')\n",
    "\n",
    "import pandas as pd\n",
    "import json\n",
    "from datetime import datetime\n",
    "\n",
    "# Import project modules\n",
    "from config.settings import config\n",
    "from src.data_processor import DataProcessor\n",
    "from src.api_client import ChatGPTClient\n",
    "from src.batch_processor import BatchProcessor\n",
    "from utils.logger import get_logger\n",
    "\n",
    "# Setup\n",
    "logger = get_logger(\"sample_processing\")\n",
    "print(\"🚀 ChatGPT Labeling System - Sample Processing\")\n",
    "print(f\"📅 Session started: {datetime.now().strftime('%Y-%m-%d %H:%M:%S')}\")\n",
    "\n",
    "# Check configuration\n",
    "if not config.OPENAI_API_KEY or config.OPENAI_API_KEY == \"your_openai_api_key_here\":\n",
    "    print(\"⚠️ WARNING: API key not configured. Please set OPENAI_API_KEY in .env file\")\n",
    "    API_AVAILABLE = False\n",
    "else:\n",
    "    print(\"✅ API key configured\")\n",
    "    API_AVAILABLE = True"
   ]
  },
  {
   "cell_type": "markdown",
   "id": "4ad89d56",
   "metadata": {},
   "source": [
    "## 1. Load and Prepare Sample Data"
   ]
  }
 ],
 "metadata": {
  "kernelspec": {
   "display_name": "news_classification-EbFrKZ2o",
   "language": "python",
   "name": "python3"
  },
  "language_info": {
   "codemirror_mode": {
    "name": "ipython",
    "version": 3
   },
   "file_extension": ".py",
   "mimetype": "text/x-python",
   "name": "python",
   "nbconvert_exporter": "python",
   "pygments_lexer": "ipython3",
   "version": "3.11.4"
  }
 },
 "nbformat": 4,
 "nbformat_minor": 5
}
